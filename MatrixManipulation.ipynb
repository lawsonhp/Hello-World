{
  "nbformat": 4,
  "nbformat_minor": 0,
  "metadata": {
    "colab": {
      "name": "MatrixManipulation.ipynb",
      "version": "0.3.2",
      "provenance": [],
      "collapsed_sections": [],
      "include_colab_link": true
    },
    "kernelspec": {
      "name": "python3",
      "display_name": "Python 3"
    },
    "accelerator": "GPU"
  },
  "cells": [
    {
      "cell_type": "markdown",
      "metadata": {
        "id": "view-in-github",
        "colab_type": "text"
      },
      "source": [
        "<a href=\"https://colab.research.google.com/github/lawsonhp/Hello-World/blob/master/MatrixManipulation.ipynb\" target=\"_parent\"><img src=\"https://colab.research.google.com/assets/colab-badge.svg\" alt=\"Open In Colab\"/></a>"
      ]
    },
    {
      "metadata": {
        "id": "19zBuiLkMRuI",
        "colab_type": "code",
        "colab": {}
      },
      "cell_type": "code",
      "source": [
        "import tensorflow as tf"
      ],
      "execution_count": 0,
      "outputs": []
    },
    {
      "metadata": {
        "id": "E2OzF3g3M-5t",
        "colab_type": "text"
      },
      "cell_type": "markdown",
      "source": [
        "### Start an Interactive **Session**"
      ]
    },
    {
      "metadata": {
        "id": "FCYY7jWiM4Zj",
        "colab_type": "code",
        "colab": {}
      },
      "cell_type": "code",
      "source": [
        "sess = tf.InteractiveSession()"
      ],
      "execution_count": 0,
      "outputs": []
    },
    {
      "metadata": {
        "id": "jOUGolnvNi9f",
        "colab_type": "text"
      },
      "cell_type": "markdown",
      "source": [
        "### Define a 5x5 Identity matrix"
      ]
    },
    {
      "metadata": {
        "id": "h3fWHWvSNpRB",
        "colab_type": "code",
        "colab": {}
      },
      "cell_type": "code",
      "source": [
        "I_matrix = tf.eye(5)"
      ],
      "execution_count": 0,
      "outputs": []
    },
    {
      "metadata": {
        "id": "Lw0T_nuYNunN",
        "colab_type": "code",
        "colab": {
          "base_uri": "https://localhost:8080/",
          "height": 102
        },
        "outputId": "e7c5adf3-6dfd-4009-e6c7-b074c47f3499"
      },
      "cell_type": "code",
      "source": [
        "print(I_matrix.eval())"
      ],
      "execution_count": 7,
      "outputs": [
        {
          "output_type": "stream",
          "text": [
            "[[1. 0. 0. 0. 0.]\n",
            " [0. 1. 0. 0. 0.]\n",
            " [0. 0. 1. 0. 0.]\n",
            " [0. 0. 0. 1. 0.]\n",
            " [0. 0. 0. 0. 1.]]\n"
          ],
          "name": "stdout"
        }
      ]
    },
    {
      "metadata": {
        "id": "xGbFm_7dN2Lz",
        "colab_type": "text"
      },
      "cell_type": "markdown",
      "source": [
        "### This will print a 5x5 Identity matrix"
      ]
    },
    {
      "metadata": {
        "id": "07FD5RATOAoK",
        "colab_type": "code",
        "colab": {}
      },
      "cell_type": "code",
      "source": [
        ""
      ],
      "execution_count": 0,
      "outputs": []
    },
    {
      "metadata": {
        "id": "bR2z9SLNQIbq",
        "colab_type": "text"
      },
      "cell_type": "markdown",
      "source": [
        "### Define a Variable initialized to a 10x10 identity matrix\n"
      ]
    },
    {
      "metadata": {
        "id": "5-hOp2miQYH-",
        "colab_type": "code",
        "colab": {
          "base_uri": "https://localhost:8080/",
          "height": 68
        },
        "outputId": "a5549c05-9a91-45c9-adb5-f4dbbe150add"
      },
      "cell_type": "code",
      "source": [
        "X = tf.Variable(tf.eye(10))"
      ],
      "execution_count": 8,
      "outputs": [
        {
          "output_type": "stream",
          "text": [
            "WARNING:tensorflow:From /usr/local/lib/python3.6/dist-packages/tensorflow/python/framework/op_def_library.py:263: colocate_with (from tensorflow.python.framework.ops) is deprecated and will be removed in a future version.\n",
            "Instructions for updating:\n",
            "Colocations handled automatically by placer.\n"
          ],
          "name": "stdout"
        }
      ]
    },
    {
      "metadata": {
        "id": "8FTI5q6BSCET",
        "colab_type": "code",
        "colab": {}
      },
      "cell_type": "code",
      "source": [
        "X.initializer.run()   # Initialize the Variable\n"
      ],
      "execution_count": 0,
      "outputs": []
    },
    {
      "metadata": {
        "id": "1dP0kCKsSMvv",
        "colab_type": "code",
        "colab": {
          "base_uri": "https://localhost:8080/",
          "height": 187
        },
        "outputId": "c25b1812-d727-43a7-f5cf-9be4775a2957"
      },
      "cell_type": "code",
      "source": [
        "print(X.eval())"
      ],
      "execution_count": 10,
      "outputs": [
        {
          "output_type": "stream",
          "text": [
            "[[1. 0. 0. 0. 0. 0. 0. 0. 0. 0.]\n",
            " [0. 1. 0. 0. 0. 0. 0. 0. 0. 0.]\n",
            " [0. 0. 1. 0. 0. 0. 0. 0. 0. 0.]\n",
            " [0. 0. 0. 1. 0. 0. 0. 0. 0. 0.]\n",
            " [0. 0. 0. 0. 1. 0. 0. 0. 0. 0.]\n",
            " [0. 0. 0. 0. 0. 1. 0. 0. 0. 0.]\n",
            " [0. 0. 0. 0. 0. 0. 1. 0. 0. 0.]\n",
            " [0. 0. 0. 0. 0. 0. 0. 1. 0. 0.]\n",
            " [0. 0. 0. 0. 0. 0. 0. 0. 1. 0.]\n",
            " [0. 0. 0. 0. 0. 0. 0. 0. 0. 1.]]\n"
          ],
          "name": "stdout"
        }
      ]
    },
    {
      "metadata": {
        "id": "cvIGjea0SPZV",
        "colab_type": "code",
        "colab": {}
      },
      "cell_type": "code",
      "source": [
        ""
      ],
      "execution_count": 0,
      "outputs": []
    },
    {
      "metadata": {
        "id": "rQEQnjzFSTET",
        "colab_type": "text"
      },
      "cell_type": "markdown",
      "source": [
        "### Evaluate the Variable and print the result"
      ]
    },
    {
      "metadata": {
        "id": "MhDRUURpSZoX",
        "colab_type": "code",
        "colab": {}
      },
      "cell_type": "code",
      "source": [
        ""
      ],
      "execution_count": 0,
      "outputs": []
    },
    {
      "metadata": {
        "id": "N_PupIITSiKO",
        "colab_type": "text"
      },
      "cell_type": "markdown",
      "source": [
        "### Create a random 5x10 matrix"
      ]
    },
    {
      "metadata": {
        "id": "swadGuCWSs2K",
        "colab_type": "code",
        "colab": {}
      },
      "cell_type": "code",
      "source": [
        "A = tf.Variable(tf.random_normal([5,10]))"
      ],
      "execution_count": 0,
      "outputs": []
    },
    {
      "metadata": {
        "id": "crVyOfIFS1oj",
        "colab_type": "code",
        "colab": {}
      },
      "cell_type": "code",
      "source": [
        "A.initializer.run()"
      ],
      "execution_count": 0,
      "outputs": []
    },
    {
      "metadata": {
        "id": "I1F8ErgITHCL",
        "colab_type": "text"
      },
      "cell_type": "markdown",
      "source": [
        "### #Multiply two matrices"
      ]
    },
    {
      "metadata": {
        "id": "H-3wPOQgThF9",
        "colab_type": "code",
        "colab": {}
      },
      "cell_type": "code",
      "source": [
        "product = tf.matmul(A, X)"
      ],
      "execution_count": 0,
      "outputs": []
    },
    {
      "metadata": {
        "id": "19WlU61TTmCA",
        "colab_type": "code",
        "colab": {
          "base_uri": "https://localhost:8080/",
          "height": 187
        },
        "outputId": "0ec4b7c4-42fa-4c74-a9c3-322fe9cb6b1c"
      },
      "cell_type": "code",
      "source": [
        "print(product.eval())"
      ],
      "execution_count": 15,
      "outputs": [
        {
          "output_type": "stream",
          "text": [
            "[[ 1.7512647  -1.2182918  -0.17035773  0.838333   -1.7375373  -1.4828935\n",
            "   1.1581136  -0.48930478 -0.00506215  0.74057925]\n",
            " [ 0.49066308 -0.7859757  -0.43351674 -0.526031   -1.0281767  -2.2764091\n",
            "   1.4140553  -0.5911982  -0.67090994 -1.22134   ]\n",
            " [ 0.20010194  1.6685005   3.5313535   0.83060664 -0.1094161   0.27250758\n",
            "   0.6143731   0.8543508   0.06490684 -2.330997  ]\n",
            " [ 1.4783388  -0.9925362   0.23818631 -1.2482107   2.146607    1.0650427\n",
            "  -0.1821583  -0.920144    0.71338433 -0.12016686]\n",
            " [ 0.6641133  -3.3529215   0.9956702  -1.0194037   0.70983106 -0.20398043\n",
            "  -1.5404446  -1.0595045  -1.203644    2.75627   ]]\n"
          ],
          "name": "stdout"
        }
      ]
    },
    {
      "metadata": {
        "id": "4XhlnwpATtvy",
        "colab_type": "text"
      },
      "cell_type": "markdown",
      "source": [
        "### create a random matrix of 1s and 0s, size 5x10\n",
        "\n"
      ]
    },
    {
      "metadata": {
        "id": "NMLtbhRJTpPa",
        "colab_type": "code",
        "colab": {}
      },
      "cell_type": "code",
      "source": [
        "b = tf.Variable(tf.random_uniform([5,10], 0, 2, dtype= tf.int32))"
      ],
      "execution_count": 0,
      "outputs": []
    },
    {
      "metadata": {
        "id": "9V15iaZtUDkt",
        "colab_type": "code",
        "colab": {}
      },
      "cell_type": "code",
      "source": [
        "b.initializer.run()"
      ],
      "execution_count": 0,
      "outputs": []
    },
    {
      "metadata": {
        "id": "SyCuGz1_UGUi",
        "colab_type": "code",
        "colab": {
          "base_uri": "https://localhost:8080/",
          "height": 102
        },
        "outputId": "4e0d20fc-66f4-450d-d71c-20acb08e952a"
      },
      "cell_type": "code",
      "source": [
        "print(b.eval())"
      ],
      "execution_count": 18,
      "outputs": [
        {
          "output_type": "stream",
          "text": [
            "[[0 1 0 0 0 1 1 0 0 1]\n",
            " [1 1 0 0 0 0 1 0 1 0]\n",
            " [0 1 0 1 0 1 1 1 1 1]\n",
            " [1 1 1 1 1 0 0 0 0 0]\n",
            " [1 1 0 0 1 1 1 1 1 1]]\n"
          ],
          "name": "stdout"
        }
      ]
    },
    {
      "metadata": {
        "id": "CZUY1ZrMUSxG",
        "colab_type": "code",
        "colab": {}
      },
      "cell_type": "code",
      "source": [
        ""
      ],
      "execution_count": 0,
      "outputs": []
    }
  ]
}