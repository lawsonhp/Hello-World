{
  "nbformat": 4,
  "nbformat_minor": 0,
  "metadata": {
    "colab": {
      "name": "MatrixManipulation.ipynb",
      "version": "0.3.2",
      "provenance": [],
      "collapsed_sections": [],
      "include_colab_link": true
    },
    "kernelspec": {
      "name": "python3",
      "display_name": "Python 3"
    },
    "accelerator": "GPU"
  },
  "cells": [
    {
      "cell_type": "markdown",
      "metadata": {
        "id": "view-in-github",
        "colab_type": "text"
      },
      "source": [
        "<a href=\"https://colab.research.google.com/github/lawsonhp/Hello-World/blob/master/MatrixManipulation.ipynb\" target=\"_parent\"><img src=\"https://colab.research.google.com/assets/colab-badge.svg\" alt=\"Open In Colab\"/></a>"
      ]
    },
    {
      "metadata": {
        "id": "19zBuiLkMRuI",
        "colab_type": "code",
        "colab": {}
      },
      "cell_type": "code",
      "source": [
        "import tensorflow as tf"
      ],
      "execution_count": 0,
      "outputs": []
    },
    {
      "metadata": {
        "id": "E2OzF3g3M-5t",
        "colab_type": "text"
      },
      "cell_type": "markdown",
      "source": [
        "### Start an Interactive **Session**"
      ]
    },
    {
      "metadata": {
        "id": "FCYY7jWiM4Zj",
        "colab_type": "code",
        "colab": {}
      },
      "cell_type": "code",
      "source": [
        "sess = tf.InteractiveSession()"
      ],
      "execution_count": 0,
      "outputs": []
    },
    {
      "metadata": {
        "id": "jOUGolnvNi9f",
        "colab_type": "text"
      },
      "cell_type": "markdown",
      "source": [
        "### Define a 5x5 Identity matrix"
      ]
    },
    {
      "metadata": {
        "id": "h3fWHWvSNpRB",
        "colab_type": "code",
        "colab": {}
      },
      "cell_type": "code",
      "source": [
        "I_matrix = tf.eye(5)"
      ],
      "execution_count": 0,
      "outputs": []
    },
    {
      "metadata": {
        "id": "Lw0T_nuYNunN",
        "colab_type": "code",
        "colab": {
          "base_uri": "https://localhost:8080/",
          "height": 102
        },
        "outputId": "e7c5adf3-6dfd-4009-e6c7-b074c47f3499"
      },
      "cell_type": "code",
      "source": [
        "print(I_matrix.eval())"
      ],
      "execution_count": 7,
      "outputs": [
        {
          "output_type": "stream",
          "text": [
            "[[1. 0. 0. 0. 0.]\n",
            " [0. 1. 0. 0. 0.]\n",
            " [0. 0. 1. 0. 0.]\n",
            " [0. 0. 0. 1. 0.]\n",
            " [0. 0. 0. 0. 1.]]\n"
          ],
          "name": "stdout"
        }
      ]
    },
    {
      "metadata": {
        "id": "xGbFm_7dN2Lz",
        "colab_type": "text"
      },
      "cell_type": "markdown",
      "source": [
        "### This will print a 5x5 Identity matrix"
      ]
    },
    {
      "metadata": {
        "id": "07FD5RATOAoK",
        "colab_type": "code",
        "colab": {}
      },
      "cell_type": "code",
      "source": [
        ""
      ],
      "execution_count": 0,
      "outputs": []
    },
    {
      "metadata": {
        "id": "bR2z9SLNQIbq",
        "colab_type": "text"
      },
      "cell_type": "markdown",
      "source": [
        "### Define a Variable initialized to a 10x10 identity matrix\n"
      ]
    },
    {
      "metadata": {
        "id": "5-hOp2miQYH-",
        "colab_type": "code",
        "colab": {}
      },
      "cell_type": "code",
      "source": [
        ""
      ],
      "execution_count": 0,
      "outputs": []
    }
  ]
}